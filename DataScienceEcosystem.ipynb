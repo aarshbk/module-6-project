{
 "cells": [
  {
   "cell_type": "markdown",
   "id": "aaf362f1-6a99-4166-a432-f4e2a5fe16b6",
   "metadata": {},
   "source": [
    "**Datascience**"
   ]
  },
  {
   "cell_type": "markdown",
   "id": "3085286b-84d1-4337-92a1-f2bbedd54fcf",
   "metadata": {},
   "source": [
    "**introduction to data science**"
   ]
  },
  {
   "cell_type": "markdown",
   "id": "a473180e-101a-432c-a71a-5efbb5e0c8f2",
   "metadata": {},
   "source": [
    "**python**\n",
    "**c++**\n",
    "**R**"
   ]
  },
  {
   "cell_type": "markdown",
   "id": "eb1e0e94-a346-4762-8661-38337875035f",
   "metadata": {},
   "source": [
    "**numpy**\n",
    "**pandas**\n",
    "**matplotlib**"
   ]
  },
  {
   "cell_type": "markdown",
   "id": "0e5320e8-9e40-4f85-aca8-116d83614c06",
   "metadata": {},
   "source": [
    "**tableui**\n",
    "**powerbi**"
   ]
  },
  {
   "cell_type": "code",
   "execution_count": 3,
   "id": "b62d2866-7529-412e-81b3-8dc437000a3d",
   "metadata": {},
   "outputs": [
    {
     "data": {
      "text/plain": [
       "15"
      ]
     },
     "execution_count": 3,
     "metadata": {},
     "output_type": "execute_result"
    }
   ],
   "source": [
    "5*3"
   ]
  },
  {
   "cell_type": "code",
   "execution_count": 5,
   "id": "825f56a9-eb3c-498a-9bc5-bb806ba61c3b",
   "metadata": {},
   "outputs": [
    {
     "data": {
      "text/plain": [
       "20"
      ]
     },
     "execution_count": 5,
     "metadata": {},
     "output_type": "execute_result"
    }
   ],
   "source": [
    "2*10"
   ]
  },
  {
   "cell_type": "code",
   "execution_count": 6,
   "id": "ad066735-02cf-478b-883f-76041142da99",
   "metadata": {},
   "outputs": [
    {
     "name": "stdout",
     "output_type": "stream",
     "text": [
      "1.6666666666666667\n"
     ]
    }
   ],
   "source": [
    "minutes=100\n",
    "hours=minutes/60\n",
    "print(hours)"
   ]
  },
  {
   "cell_type": "markdown",
   "id": "5836950e-1bb2-495b-8c87-f5c3f1bf196c",
   "metadata": {},
   "source": [
    "**objective was to learn python**"
   ]
  },
  {
   "cell_type": "markdown",
   "id": "1a162567-50ac-4dde-a2de-40c0a27c7413",
   "metadata": {},
   "source": [
    "**Lakshmi Holla**\n",
    "\n",
    "**Niveditha Pandith**"
   ]
  },
  {
   "cell_type": "code",
   "execution_count": null,
   "id": "56644ede-2772-495b-a82a-6a34764be5d3",
   "metadata": {},
   "outputs": [],
   "source": []
  }
 ],
 "metadata": {
  "kernelspec": {
   "display_name": "Python 3 (ipykernel)",
   "language": "python",
   "name": "python3"
  },
  "language_info": {
   "codemirror_mode": {
    "name": "ipython",
    "version": 3
   },
   "file_extension": ".py",
   "mimetype": "text/x-python",
   "name": "python",
   "nbconvert_exporter": "python",
   "pygments_lexer": "ipython3",
   "version": "3.12.4"
  }
 },
 "nbformat": 4,
 "nbformat_minor": 5
}
