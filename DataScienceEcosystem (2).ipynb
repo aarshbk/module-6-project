{
 "cells": [
  {
   "cell_type": "markdown",
   "id": "aaf362f1-6a99-4166-a432-f4e2a5fe16b6",
   "metadata": {},
   "source": [
    "**Datascience**"
   ]
  },
  {
   "cell_type": "markdown",
   "id": "bd450d71-e622-48dc-95c4-dc07043e5c81",
   "metadata": {},
   "source": [
    "# Data Science "
   ]
  },
  {
   "cell_type": "markdown",
   "id": "a473180e-101a-432c-a71a-5efbb5e0c8f2",
   "metadata": {},
   "source": [
    "**Some of the popular languages that data scientists use are:**\n",
    "\n",
    "1. Python\n",
    "2. C++\n",
    "3. R\n",
    "4. Scala\n",
    "5. javascript\n",
    "6. go\n",
    "7. ruby\n",
    "8. php\n",
    "9. SQL\n",
    "10. visual basic\n",
    "11. java\n",
    "12. julia\n",
    "    \n",
    "\n"
   ]
  },
  {
   "cell_type": "markdown",
   "id": "eb1e0e94-a346-4762-8661-38337875035f",
   "metadata": {},
   "source": [
    "**Some of the commonly used libraries used by data scientists include**\n",
    "1. numpy\n",
    "2. pandas\n",
    "3. matplotlib\n",
    "4. seaborn\n",
    "5. keras\n",
    "6. sckit-learn\n",
    "7. tensor flow\n",
    "8. pytorch\n",
    "9. apache spark\n",
    "10. vegas\n",
    "11. big DL\n",
    "12. ggplot2"
   ]
  },
  {
   "cell_type": "markdown",
   "id": "0e5320e8-9e40-4f85-aca8-116d83614c06",
   "metadata": {},
   "source": [
    "Data Science Tools\n",
    "1. anaconda\n",
    "2. jupyter notebooks\n",
    "3. r studio\n",
    "4. spyder\n",
    "5. zepplin"
   ]
  },
  {
   "cell_type": "code",
   "execution_count": 3,
   "id": "b62d2866-7529-412e-81b3-8dc437000a3d",
   "metadata": {},
   "outputs": [
    {
     "data": {
      "text/plain": [
       "15"
      ]
     },
     "execution_count": 3,
     "metadata": {},
     "output_type": "execute_result"
    }
   ],
   "source": [
    "5*3"
   ]
  },
  {
   "cell_type": "code",
   "execution_count": 5,
   "id": "825f56a9-eb3c-498a-9bc5-bb806ba61c3b",
   "metadata": {},
   "outputs": [
    {
     "data": {
      "text/plain": [
       "20"
      ]
     },
     "execution_count": 5,
     "metadata": {},
     "output_type": "execute_result"
    }
   ],
   "source": [
    "2*10"
   ]
  },
  {
   "cell_type": "code",
   "execution_count": 9,
   "id": "ad066735-02cf-478b-883f-76041142da99",
   "metadata": {},
   "outputs": [
    {
     "data": {
      "text/plain": [
       "3.3333333333333335"
      ]
     },
     "execution_count": 9,
     "metadata": {},
     "output_type": "execute_result"
    }
   ],
   "source": [
    "#converting hours to min\n",
    "200/60\n"
   ]
  },
  {
   "cell_type": "markdown",
   "id": "5836950e-1bb2-495b-8c87-f5c3f1bf196c",
   "metadata": {},
   "source": [
    "**objective was to learn python**"
   ]
  },
  {
   "cell_type": "markdown",
   "id": "1a162567-50ac-4dde-a2de-40c0a27c7413",
   "metadata": {},
   "source": [
    "**Lakshmi Holla**\n",
    "\n",
    "**Niveditha Pandith**"
   ]
  },
  {
   "cell_type": "code",
   "execution_count": 3,
   "id": "56644ede-2772-495b-a82a-6a34764be5d3",
   "metadata": {},
   "outputs": [
    {
     "data": {
      "text/plain": [
       "17"
      ]
     },
     "execution_count": 3,
     "metadata": {},
     "output_type": "execute_result"
    }
   ],
   "source": [
    "#this is an arhamathic experssion\n",
    "2+(3*5)"
   ]
  },
  {
   "cell_type": "markdown",
   "id": "a1f1e683-474f-44db-ad82-8cb8f51fa423",
   "metadata": {},
   "source": [
    "**in this notebook,Data Science Tools and Ecosystem are summarized**"
   ]
  },
  {
   "cell_type": "markdown",
   "id": "af5ee3a2-5c84-4e79-8e60-cfb7d40c0673",
   "metadata": {},
   "source": [
    "\n",
    "\n",
    "| Data Science Tools             |\n",
    "|--------------------|\n",
    "| Anaconda           |\n",
    "| Jupyter Notebooks|\n",
    "| R Studio           |\n",
    "| Spyder             |\n",
    "| Zeppelin           |"
   ]
  },
  {
   "cell_type": "markdown",
   "id": "8757e0bc-868c-493d-94c3-8d81cbb5db50",
   "metadata": {},
   "source": [
    "### examples of evaluating arithemetic expression\n"
   ]
  },
  {
   "cell_type": "markdown",
   "id": "a0641a37-8bf0-4f2b-8ce1-7a5282f49a02",
   "metadata": {},
   "source": [
    "**objectives**\n",
    "\n",
    "- add comments\n",
    "- create markdown cells\n",
    "- add ordered and unordered cells"
   ]
  },
  {
   "cell_type": "markdown",
   "id": "a4ecc0d7-b9ff-4076-a61c-ff9ad6287ae8",
   "metadata": {},
   "source": [
    "## authors\n",
    " lakshmi holla\n",
    "\n",
    " nivedetha pandit"
   ]
  },
  {
   "cell_type": "code",
   "execution_count": null,
   "id": "317a9e26-1215-4fb7-aad6-6c5e89597cfd",
   "metadata": {},
   "outputs": [],
   "source": []
  }
 ],
 "metadata": {
  "kernelspec": {
   "display_name": "Python 3 (ipykernel)",
   "language": "python",
   "name": "python3"
  },
  "language_info": {
   "codemirror_mode": {
    "name": "ipython",
    "version": 3
   },
   "file_extension": ".py",
   "mimetype": "text/x-python",
   "name": "python",
   "nbconvert_exporter": "python",
   "pygments_lexer": "ipython3",
   "version": "3.12.4"
  }
 },
 "nbformat": 4,
 "nbformat_minor": 5
}
